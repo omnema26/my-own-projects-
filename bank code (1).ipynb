{
 "cells": [
  {
   "cell_type": "code",
   "execution_count": null,
   "id": "0917c510",
   "metadata": {},
   "outputs": [
    {
     "name": "stdout",
     "output_type": "stream",
     "text": [
      "Welcome to Bank of india\n",
      "Enter your account type saving or current: current\n",
      "Enter customer name: om\n",
      "**************************************************************************************************************\n",
      "Press D for depositing money\n",
      "Press W for withdrawal of money\n",
      "Press E for exit and take your card\n",
      "**************************************************************************************************************\n",
      "Enter your transaction option: d\n",
      "Enter amount you want to deposite: 123\n",
      "Balance after deposite is 123\n",
      "**************************************************************************************************************\n",
      "Press D for depositing money\n",
      "Press W for withdrawal of money\n",
      "Press E for exit and take your card\n",
      "**************************************************************************************************************\n",
      "Enter your transaction option: w\n",
      "Enter amount you want to withdraw: 12\n",
      "Balance after withdrawal  is 111\n",
      "**************************************************************************************************************\n",
      "Press D for depositing money\n",
      "Press W for withdrawal of money\n",
      "Press E for exit and take your card\n",
      "**************************************************************************************************************\n"
     ]
    }
   ],
   "source": [
    "import sys\n",
    "class Banking:\n",
    "    Bank_name= \"Bank of india\"\n",
    "    def __init__(self,name,amount=0):\n",
    "        self.name= name\n",
    "        self.amount= amount\n",
    "    def deposite(self,amount):\n",
    "        self.amount= self.amount+amount\n",
    "        print(\"Balance after deposite is\",self.amount)\n",
    "    def withdrawal(self,amount):\n",
    "        if amount>self.amount:\n",
    "            print(\"Insufficient balance kindly enter lower amount and try again\")\n",
    "            sys.exit()\n",
    "        self.amount= self.amount-amount\n",
    "        print(\"Balance after withdrawal  is\",self.amount)\n",
    "print(\"Welcome to\",Banking.Bank_name)\n",
    "account_type= input(\"Enter your account type saving or current: \")\n",
    "name= input(\"Enter customer name: \")\n",
    "x= Banking(name)\n",
    "while True:\n",
    "    print(\"**************************************************************************************************************\")\n",
    "    print(\"Press D for depositing money\")\n",
    "    print(\"Press W for withdrawal of money\")\n",
    "    print(\"Press E for exit and take your card\")\n",
    "    print(\"**************************************************************************************************************\")\n",
    "    press= input(\"Enter your transaction option: \")\n",
    "    if account_type.lower()== account_type.lower()==\"current\" or account_type.lower()==\"saving\":\n",
    "        if press== \"D\" or press== \"d\":\n",
    "            amount= int(input(\"Enter amount you want to deposite: \"))\n",
    "            x.deposite(amount)\n",
    "        elif press== \"W\" or press== \"w\":\n",
    "            amount= int(input(\"Enter amount you want to withdraw: \"))\n",
    "            x.withdrawal(amount)\n",
    "        elif press== \"E\" or press== \"e\":\n",
    "            print(\"Thanks for Banking! Visit again!\")\n",
    "            sys.exit()\n",
    "        elif press== \"E\" or press== \"e\":\n",
    "            print(\"Thanks for Banking! Visit again!\")\n",
    "            sys.exit()\n",
    "    else:\n",
    "        print(\"Entered details are invalid\")"
   ]
  },
  {
   "cell_type": "code",
   "execution_count": null,
   "id": "d208133f",
   "metadata": {},
   "outputs": [],
   "source": []
  },
  {
   "cell_type": "code",
   "execution_count": null,
   "id": "5f45c0c8",
   "metadata": {},
   "outputs": [],
   "source": []
  }
 ],
 "metadata": {
  "kernelspec": {
   "display_name": "Python 3 (ipykernel)",
   "language": "python",
   "name": "python3"
  },
  "language_info": {
   "codemirror_mode": {
    "name": "ipython",
    "version": 3
   },
   "file_extension": ".py",
   "mimetype": "text/x-python",
   "name": "python",
   "nbconvert_exporter": "python",
   "pygments_lexer": "ipython3",
   "version": "3.9.12"
  }
 },
 "nbformat": 4,
 "nbformat_minor": 5
}
