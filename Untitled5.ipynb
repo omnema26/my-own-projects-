{
 "cells": [
  {
   "cell_type": "code",
   "execution_count": 24,
   "id": "e8a75220",
   "metadata": {},
   "outputs": [
    {
     "name": "stdout",
     "output_type": "stream",
     "text": [
      "enter your birth monthjanuary\n",
      "enter your birth date17\n",
      "Capricorn\n"
     ]
    }
   ],
   "source": [
    "# checks month and date within the valid range\n",
    "   # of a specified zodiac\n",
    "month=input(\"enter your birth month\")\n",
    "day=int(input(\"enter your birth date\"))\n",
    "\n",
    "if month == 'december':\n",
    "      astro_sign = 'Sagittarius' if (day < 22) else 'capricorn'\n",
    "elif month == 'january':\n",
    "      astro_sign = 'Capricorn' if (day < 20) else 'aquarius'\n",
    "elif month == 'february':\n",
    "      astro_sign = 'Aquarius' if (day < 19) else 'pisces'\n",
    "elif month == 'march':\n",
    "      astro_sign = 'Pisces' if (day < 21) else 'aries'\n",
    "elif month == 'april':\n",
    "      astro_sign = 'Aries' if (day < 20) else 'taurus'\n",
    "elif month == 'may':\n",
    "      astro_sign = 'Taurus' if (day < 21) else 'gemini'\n",
    "elif month == 'june':\n",
    "      astro_sign = 'Gemini' if (day < 21) else 'cancer'\n",
    "elif month == 'july':\n",
    "      astro_sign = 'Cancer' if (day < 23) else 'leo'\n",
    "elif month == 'august':\n",
    "      astro_sign = 'Leo' if (day < 23) else 'virgo'\n",
    "elif month == 'september':\n",
    "      astro_sign = 'Virgo' if (day < 23) else 'libra'\n",
    "elif month == 'october':\n",
    "      astro_sign = 'Libra' if (day < 23) else 'scorpio'\n",
    "elif month == 'november':\n",
    "      astro_sign = 'scorpio' if (day < 22) else 'sagittarius'\n",
    "print(astro_sign)"
   ]
  },
  {
   "cell_type": "code",
   "execution_count": null,
   "id": "bb2220ed",
   "metadata": {},
   "outputs": [],
   "source": []
  }
 ],
 "metadata": {
  "kernelspec": {
   "display_name": "Python 3 (ipykernel)",
   "language": "python",
   "name": "python3"
  },
  "language_info": {
   "codemirror_mode": {
    "name": "ipython",
    "version": 3
   },
   "file_extension": ".py",
   "mimetype": "text/x-python",
   "name": "python",
   "nbconvert_exporter": "python",
   "pygments_lexer": "ipython3",
   "version": "3.9.12"
  }
 },
 "nbformat": 4,
 "nbformat_minor": 5
}
